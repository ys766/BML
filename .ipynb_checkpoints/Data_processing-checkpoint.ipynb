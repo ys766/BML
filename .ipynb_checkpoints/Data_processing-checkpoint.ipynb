{
 "cells": [
  {
   "cell_type": "code",
   "execution_count": 26,
   "metadata": {
    "collapsed": false
   },
   "outputs": [],
   "source": [
    "import numpy as np\n",
    "import csv\n",
    "import matplotlib.pyplot as plt"
   ]
  },
  {
   "cell_type": "code",
   "execution_count": 14,
   "metadata": {
    "collapsed": false
   },
   "outputs": [
    {
     "name": "stdout",
     "output_type": "stream",
     "text": [
      "(80000, 3)\n"
     ]
    }
   ],
   "source": [
    "# read the first training and test data set\n",
    "# columns: user_id, movie_id, rating (80K training examples)\n",
    "training_1 = np.loadtxt(\"u1base.txt\", dtype = int, usecols=(0, 1, 2))\n",
    "test_1 = np.loadtxt(\"u1test.txt\", dtype = int, usecols=(0, 1, 2))"
   ]
  },
  {
   "cell_type": "code",
   "execution_count": 63,
   "metadata": {
    "collapsed": false
   },
   "outputs": [],
   "source": [
    "user_file = []\n",
    "with open('uuser.txt') as f:\n",
    "    for l in f:\n",
    "        user_file.append(l.strip().split(\"|\"))\n",
    "        \n",
    "age = []\n",
    "for row in user_file:\n",
    "    age.append(int(row[1]))\n",
    "\n",
    "age.sort()\n",
    "#print(np.size(user_file,0))\n",
    "num = np.size(age,0)/5\n",
    "#print(num)\n",
    "group = [age[int(num)], age[int(2*num)], age[int(3*num)], age[int(4*num)]]\n",
    "#group_num = [int(num), int(2*num)-int(num), int(3*num)-int(2*num), int(4*num)-int(3*num), np.size(user_file,0)-int(4*num)]\n",
    "#print(group)\n",
    "#print(group_num)\n",
    "#print(age[-1])\n",
    "#user columns: id, age(5 groups), occupations(20), gender(2)\n",
    "#np.histogram(age, 5)"
   ]
  },
  {
   "cell_type": "code",
   "execution_count": 75,
   "metadata": {
    "collapsed": false
   },
   "outputs": [
    {
     "name": "stdout",
     "output_type": "stream",
     "text": [
      "[23, 29, 35, 46]\n",
      "4\n",
      "[173, 203, 166, 208, 189]\n"
     ]
    }
   ],
   "source": [
    "count = 0;\n",
    "index = 0;\n",
    "group_num =[]\n",
    "print(group)\n",
    "print(np.size(group))\n",
    "for Age in age:\n",
    "    if ((index >= 4) or (Age < group[index])):\n",
    "        count = count + 1\n",
    "    else:\n",
    "        group_num.append(count)\n",
    "        index = index + 1\n",
    "        count = 0\n",
    "\n",
    "\n",
    "\n",
    "group_num.append(count)\n",
    "print(group_num)\n"
   ]
  },
  {
   "cell_type": "code",
   "execution_count": null,
   "metadata": {
    "collapsed": true
   },
   "outputs": [],
   "source": [
    "#group 0-22, 23-28, 29-34, 35-45, 46...\n"
   ]
  }
 ],
 "metadata": {
  "kernelspec": {
   "display_name": "Python 3",
   "language": "python",
   "name": "python3"
  },
  "language_info": {
   "codemirror_mode": {
    "name": "ipython",
    "version": 3
   },
   "file_extension": ".py",
   "mimetype": "text/x-python",
   "name": "python",
   "nbconvert_exporter": "python",
   "pygments_lexer": "ipython3",
   "version": "3.6.0"
  }
 },
 "nbformat": 4,
 "nbformat_minor": 2
}
