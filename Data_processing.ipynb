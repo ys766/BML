{
 "cells": [
  {
   "cell_type": "code",
   "execution_count": 96,
   "metadata": {
    "collapsed": false
   },
   "outputs": [],
   "source": [
    "import numpy as np\n",
    "import csv\n",
    "import matplotlib.pyplot as plt"
   ]
  },
  {
   "cell_type": "code",
   "execution_count": 149,
   "metadata": {
    "collapsed": false
   },
   "outputs": [],
   "source": [
    "# read the first training and test data set\n",
    "# columns: user_id, movie_id, rating\n",
    "training_b = np.loadtxt(\"ubbase.txt\", dtype = int, usecols=(0, 1, 2))\n",
    "test_b = np.loadtxt(\"ubtest.txt\", dtype = int, usecols=(0, 1, 2))\n",
    "np.savetxt(\"train_b.csv\", training_b, fmt='%i', delimiter = \",\")\n",
    "np.savetxt(\"test_b.csv\", test_b, fmt='%i', delimiter = \",\")"
   ]
  },
  {
   "cell_type": "code",
   "execution_count": 63,
   "metadata": {
    "collapsed": false
   },
   "outputs": [],
   "source": [
    "# map each user to 28 dimension\n",
    "user_file = []\n",
    "with open('uuser.txt') as f:\n",
    "    for l in f:\n",
    "        user_file.append(l.strip().split(\"|\"))\n",
    "        \n",
    "age = []\n",
    "for row in user_file:\n",
    "    age.append(int(row[1]))\n",
    "\n",
    "age.sort()\n",
    "#print(np.size(user_file,0))\n",
    "num = np.size(age,0)/5\n",
    "#print(num)\n",
    "group = [age[int(num)], age[int(2*num)], age[int(3*num)], age[int(4*num)]]"
   ]
  },
  {
   "cell_type": "code",
   "execution_count": 75,
   "metadata": {
    "collapsed": false
   },
   "outputs": [
    {
     "name": "stdout",
     "output_type": "stream",
     "text": [
      "[23, 29, 35, 46]\n",
      "4\n",
      "[173, 203, 166, 208, 189]\n"
     ]
    }
   ],
   "source": [
    "# separate the age into 5 groups\n",
    "# group 0-22, 23-28, 29-34, 35-45, 46..\n",
    "count = 0;\n",
    "index = 0;\n",
    "group_num =[]\n",
    "print(group)\n",
    "print(np.size(group))\n",
    "for Age in age:\n",
    "    if ((index >= 4) or (Age < group[index])):\n",
    "        count = count + 1\n",
    "    else:\n",
    "        group_num.append(count)\n",
    "        index = index + 1\n",
    "        count = 0\n",
    "\n",
    "group_num.append(count)\n",
    "print(group_num)\n"
   ]
  },
  {
   "cell_type": "code",
   "execution_count": 77,
   "metadata": {
    "collapsed": false
   },
   "outputs": [
    {
     "name": "stdout",
     "output_type": "stream",
     "text": [
      "{'administrator': 0, 'artist': 1, 'doctor': 2, 'educator': 3, 'engineer': 4, 'entertainment': 5, 'executive': 6, 'healthcare': 7, 'homemaker': 8, 'lawyer': 9, 'librarian': 10, 'marketing': 11, 'none': 12, 'other': 13, 'programmer': 14, 'retired': 15, 'salesman': 16, 'scientist': 17, 'student': 18, 'technician': 19, 'writer': 20}\n"
     ]
    }
   ],
   "source": [
    "#occupation map\n",
    "occupation = {}\n",
    "index = 0\n",
    "with open('occupation.txt') as f:\n",
    "    for l in f:\n",
    "        occupation[l.strip()] = index\n",
    "        index = index + 1"
   ]
  },
  {
   "cell_type": "code",
   "execution_count": 150,
   "metadata": {
    "collapsed": false
   },
   "outputs": [],
   "source": [
    "# group 0-22, 23-28, 29-34, 35-45, 46...\n",
    "size = np.size(user_file, 0)\n",
    "# user_feature: age (5 columns), occupation (21 columns), gender (2 columns)\n",
    "# index of user_feature = user_id (row 0 is empty, start row 1)\n",
    "user_feature = np.zeros((size + 1, 28), dtype = int)\n",
    "group = [23, 29, 35, 46, 100]\n",
    "for index in range(size):\n",
    "        for age_ind in range(np.size(group)):\n",
    "            if (int(user_file[index][1]) < group[age_ind]):\n",
    "                user_feature[index + 1][age_ind] = 1\n",
    "                break\n",
    "        job_ind = occupation[user_file[index][3]]\n",
    "        user_feature[index + 1][5 + job_ind] = 1\n",
    "        # male 1 female 0\n",
    "        if (user_file[index][2] == \"M\"):\n",
    "            user_feature[index + 1][26] = 1\n",
    "        else:\n",
    "            user_feature[index + 1][27] = 1\n",
    "            \n",
    "np.set_printoptions(threshold=np.nan)\n",
    "np.savetxt(\"user_feature.csv\", user_feature, fmt='%i', delimiter = \",\")"
   ]
  },
  {
   "cell_type": "code",
   "execution_count": 142,
   "metadata": {
    "collapsed": false
   },
   "outputs": [],
   "source": [
    "# extract movie feature\n",
    "# 19 generes\n",
    "item = []\n",
    "head = [0,0,0,0,0,0,0,0,0,0,0,0,0,0,0,0,0,0,0]\n",
    "# item.append(head)\n",
    "with open('item2.csv') as f:\n",
    "    for data in f:\n",
    "        temp = data.strip().split(',')\n",
    "        temp2 = []\n",
    "        for stuff in temp:\n",
    "            temp2.append(int(stuff))\n",
    "        item.append(temp2)\n",
    "item.insert(0, head)       \n",
    "np.savetxt(\"movie_feature.csv\", item, fmt='%i', delimiter = \",\")"
   ]
  },
  {
   "cell_type": "code",
   "execution_count": null,
   "metadata": {
    "collapsed": true
   },
   "outputs": [],
   "source": []
  }
 ],
 "metadata": {
  "kernelspec": {
   "display_name": "Python 3",
   "language": "python",
   "name": "python3"
  },
  "language_info": {
   "codemirror_mode": {
    "name": "ipython",
    "version": 3
   },
   "file_extension": ".py",
   "mimetype": "text/x-python",
   "name": "python",
   "nbconvert_exporter": "python",
   "pygments_lexer": "ipython3",
   "version": "3.6.0"
  }
 },
 "nbformat": 4,
 "nbformat_minor": 2
}
