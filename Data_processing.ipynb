{
 "cells": [
  {
   "cell_type": "code",
   "execution_count": 2,
   "metadata": {},
   "outputs": [],
   "source": [
    "import numpy as np\n",
    "import csv\n",
    "import matplotlib.pyplot as plt"
   ]
  },
  {
   "cell_type": "code",
   "execution_count": 149,
   "metadata": {},
   "outputs": [],
   "source": [
    "# read the first training and test data set\n",
    "# columns: user_id, movie_id, rating\n",
    "training_b = np.loadtxt(\"ubbase.txt\", dtype = int, usecols=(0, 1, 2))\n",
    "test_b = np.loadtxt(\"ubtest.txt\", dtype = int, usecols=(0, 1, 2))\n",
    "np.savetxt(\"train_b.csv\", training_b, fmt='%i', delimiter = \",\")\n",
    "np.savetxt(\"test_b.csv\", test_b, fmt='%i', delimiter = \",\")"
   ]
  },
  {
   "cell_type": "code",
   "execution_count": 3,
   "metadata": {},
   "outputs": [],
   "source": [
    "# map each user to 28 dimension\n",
    "user_file = []\n",
    "with open('uuser.txt') as f:\n",
    "    for l in f:\n",
    "        user_file.append(l.strip().split(\"|\"))\n",
    "        \n",
    "age = []\n",
    "for row in user_file:\n",
    "    age.append(int(row[1]))\n",
    "\n",
    "age.sort()\n",
    "#print(np.size(user_file,0))\n",
    "num = np.size(age,0)/5\n",
    "#print(num)\n",
    "group = [age[int(num)], age[int(2*num)], age[int(3*num)], age[int(4*num)]]"
   ]
  },
  {
   "cell_type": "code",
   "execution_count": 4,
   "metadata": {},
   "outputs": [
    {
     "name": "stdout",
     "output_type": "stream",
     "text": [
      "[23, 29, 35, 46]\n",
      "4\n",
      "[173, 203, 166, 208, 189]\n"
     ]
    }
   ],
   "source": [
    "# separate the age into 5 groups\n",
    "# group 0-22, 23-28, 29-34, 35-45, 46..\n",
    "count = 0;\n",
    "index = 0;\n",
    "group_num =[]\n",
    "print(group)\n",
    "print(np.size(group))\n",
    "for Age in age:\n",
    "    if ((index >= 4) or (Age < group[index])):\n",
    "        count = count + 1\n",
    "    else:\n",
    "        group_num.append(count)\n",
    "        index = index + 1\n",
    "        count = 0\n",
    "\n",
    "group_num.append(count)\n",
    "print(group_num)\n"
   ]
  },
  {
   "cell_type": "code",
   "execution_count": 5,
   "metadata": {},
   "outputs": [],
   "source": [
    "#occupation map\n",
    "occupation = {}\n",
    "index = 0\n",
    "with open('occupation.txt') as f:\n",
    "    for l in f:\n",
    "        occupation[l.strip()] = index\n",
    "        index = index + 1"
   ]
  },
  {
   "cell_type": "code",
   "execution_count": 6,
   "metadata": {},
   "outputs": [],
   "source": [
    "# group 0-22, 23-28, 29-34, 35-45, 46...\n",
    "size = np.size(user_file, 0)\n",
    "# user_feature: age (5 columns), occupation (21 columns), gender (2 columns)\n",
    "# index of user_feature = user_id (row 0 is empty, start row 1)\n",
    "user_feature = np.zeros((size + 1, 28), dtype = int)\n",
    "group = [23, 29, 35, 46, 100]\n",
    "for index in range(size):\n",
    "        for age_ind in range(np.size(group)):\n",
    "            if (int(user_file[index][1]) < group[age_ind]):\n",
    "                user_feature[index + 1][age_ind] = 1\n",
    "                break\n",
    "        job_ind = occupation[user_file[index][3]]\n",
    "        user_feature[index + 1][5 + job_ind] = 1\n",
    "        # male 1 female 0\n",
    "        if (user_file[index][2] == \"M\"):\n",
    "            user_feature[index + 1][26] = 1\n",
    "        else:\n",
    "            user_feature[index + 1][27] = 1\n",
    "            \n",
    "np.set_printoptions(threshold=np.nan)\n",
    "np.savetxt(\"user_feature.csv\", user_feature, fmt='%i', delimiter = \",\")"
   ]
  },
  {
   "cell_type": "code",
   "execution_count": 7,
   "metadata": {},
   "outputs": [
    {
     "ename": "FileNotFoundError",
     "evalue": "[Errno 2] No such file or directory: 'item2.csv'",
     "output_type": "error",
     "traceback": [
      "\u001b[0;31m---------------------------------------------------------------------------\u001b[0m",
      "\u001b[0;31mFileNotFoundError\u001b[0m                         Traceback (most recent call last)",
      "\u001b[0;32m<ipython-input-7-15af0031b4f0>\u001b[0m in \u001b[0;36m<module>\u001b[0;34m()\u001b[0m\n\u001b[1;32m      4\u001b[0m \u001b[0mhead\u001b[0m \u001b[0;34m=\u001b[0m \u001b[0;34m[\u001b[0m\u001b[0;36m0\u001b[0m\u001b[0;34m,\u001b[0m\u001b[0;36m0\u001b[0m\u001b[0;34m,\u001b[0m\u001b[0;36m0\u001b[0m\u001b[0;34m,\u001b[0m\u001b[0;36m0\u001b[0m\u001b[0;34m,\u001b[0m\u001b[0;36m0\u001b[0m\u001b[0;34m,\u001b[0m\u001b[0;36m0\u001b[0m\u001b[0;34m,\u001b[0m\u001b[0;36m0\u001b[0m\u001b[0;34m,\u001b[0m\u001b[0;36m0\u001b[0m\u001b[0;34m,\u001b[0m\u001b[0;36m0\u001b[0m\u001b[0;34m,\u001b[0m\u001b[0;36m0\u001b[0m\u001b[0;34m,\u001b[0m\u001b[0;36m0\u001b[0m\u001b[0;34m,\u001b[0m\u001b[0;36m0\u001b[0m\u001b[0;34m,\u001b[0m\u001b[0;36m0\u001b[0m\u001b[0;34m,\u001b[0m\u001b[0;36m0\u001b[0m\u001b[0;34m,\u001b[0m\u001b[0;36m0\u001b[0m\u001b[0;34m,\u001b[0m\u001b[0;36m0\u001b[0m\u001b[0;34m,\u001b[0m\u001b[0;36m0\u001b[0m\u001b[0;34m,\u001b[0m\u001b[0;36m0\u001b[0m\u001b[0;34m,\u001b[0m\u001b[0;36m0\u001b[0m\u001b[0;34m]\u001b[0m\u001b[0;34m\u001b[0m\u001b[0m\n\u001b[1;32m      5\u001b[0m \u001b[0;31m# item.append(head)\u001b[0m\u001b[0;34m\u001b[0m\u001b[0;34m\u001b[0m\u001b[0m\n\u001b[0;32m----> 6\u001b[0;31m \u001b[0;32mwith\u001b[0m \u001b[0mopen\u001b[0m\u001b[0;34m(\u001b[0m\u001b[0;34m'item2.csv'\u001b[0m\u001b[0;34m)\u001b[0m \u001b[0;32mas\u001b[0m \u001b[0mf\u001b[0m\u001b[0;34m:\u001b[0m\u001b[0;34m\u001b[0m\u001b[0m\n\u001b[0m\u001b[1;32m      7\u001b[0m     \u001b[0;32mfor\u001b[0m \u001b[0mdata\u001b[0m \u001b[0;32min\u001b[0m \u001b[0mf\u001b[0m\u001b[0;34m:\u001b[0m\u001b[0;34m\u001b[0m\u001b[0m\n\u001b[1;32m      8\u001b[0m         \u001b[0mtemp\u001b[0m \u001b[0;34m=\u001b[0m \u001b[0mdata\u001b[0m\u001b[0;34m.\u001b[0m\u001b[0mstrip\u001b[0m\u001b[0;34m(\u001b[0m\u001b[0;34m)\u001b[0m\u001b[0;34m.\u001b[0m\u001b[0msplit\u001b[0m\u001b[0;34m(\u001b[0m\u001b[0;34m','\u001b[0m\u001b[0;34m)\u001b[0m\u001b[0;34m\u001b[0m\u001b[0m\n",
      "\u001b[0;31mFileNotFoundError\u001b[0m: [Errno 2] No such file or directory: 'item2.csv'"
     ]
    }
   ],
   "source": [
    "# extract movie feature\n",
    "# 19 generes\n",
    "item = []\n",
    "head = [0,0,0,0,0,0,0,0,0,0,0,0,0,0,0,0,0,0,0]\n",
    "# item.append(head)\n",
    "with open('item2.csv') as f:\n",
    "    for data in f:\n",
    "        temp = data.strip().split(',')\n",
    "        temp2 = []\n",
    "        for stuff in temp:\n",
    "            temp2.append(int(stuff))\n",
    "        item.append(temp2)\n",
    "item.insert(0, head)       \n",
    "np.savetxt(\"movie_feature.csv\", item, fmt='%i', delimiter = \",\")"
   ]
  },
  {
   "cell_type": "code",
   "execution_count": null,
   "metadata": {
    "collapsed": true
   },
   "outputs": [],
   "source": []
  }
 ],
 "metadata": {
  "kernelspec": {
   "display_name": "Python 3",
   "language": "python",
   "name": "python3"
  },
  "language_info": {
   "codemirror_mode": {
    "name": "ipython",
    "version": 3
   },
   "file_extension": ".py",
   "mimetype": "text/x-python",
   "name": "python",
   "nbconvert_exporter": "python",
   "pygments_lexer": "ipython3",
   "version": "3.6.3"
  }
 },
 "nbformat": 4,
 "nbformat_minor": 2
}
